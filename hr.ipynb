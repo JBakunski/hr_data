{
 "cells": [
  {
   "cell_type": "code",
   "execution_count": 42,
   "id": "2c927ea1-67a1-4eac-abff-67a5852ed397",
   "metadata": {},
   "outputs": [],
   "source": [
    "import pandas as pd\n",
    "import numpy as np\n",
    "import matplotlib.pyplot as plt\n",
    "import seaborn as sns\n",
    "import datetime as dt"
   ]
  },
  {
   "cell_type": "code",
   "execution_count": 43,
   "id": "7cd79df9-b7f6-410d-af1a-fd153cd4c53b",
   "metadata": {},
   "outputs": [],
   "source": [
    "df = pd.read_csv(\"Data/HRDataset.csv\")"
   ]
  },
  {
   "cell_type": "code",
   "execution_count": 44,
   "id": "e202f3c3-5869-424b-a146-46734fbd318f",
   "metadata": {},
   "outputs": [
    {
     "data": {
      "text/html": [
       "<div>\n",
       "<style scoped>\n",
       "    .dataframe tbody tr th:only-of-type {\n",
       "        vertical-align: middle;\n",
       "    }\n",
       "\n",
       "    .dataframe tbody tr th {\n",
       "        vertical-align: top;\n",
       "    }\n",
       "\n",
       "    .dataframe thead th {\n",
       "        text-align: right;\n",
       "    }\n",
       "</style>\n",
       "<table border=\"1\" class=\"dataframe\">\n",
       "  <thead>\n",
       "    <tr style=\"text-align: right;\">\n",
       "      <th></th>\n",
       "      <th>Employee_Name</th>\n",
       "      <th>EmpID</th>\n",
       "      <th>MarriedID</th>\n",
       "      <th>MaritalStatusID</th>\n",
       "      <th>GenderID</th>\n",
       "      <th>EmpStatusID</th>\n",
       "      <th>DeptID</th>\n",
       "      <th>PerfScoreID</th>\n",
       "      <th>FromDiversityJobFairID</th>\n",
       "      <th>PayRate</th>\n",
       "      <th>...</th>\n",
       "      <th>Department</th>\n",
       "      <th>ManagerName</th>\n",
       "      <th>ManagerID</th>\n",
       "      <th>RecruitmentSource</th>\n",
       "      <th>PerformanceScore</th>\n",
       "      <th>EngagementSurvey</th>\n",
       "      <th>EmpSatisfaction</th>\n",
       "      <th>SpecialProjectsCount</th>\n",
       "      <th>LastPerformanceReview_Date</th>\n",
       "      <th>DaysLateLast30</th>\n",
       "    </tr>\n",
       "  </thead>\n",
       "  <tbody>\n",
       "    <tr>\n",
       "      <th>0</th>\n",
       "      <td>Brown, Mia</td>\n",
       "      <td>1.103024e+09</td>\n",
       "      <td>1.0</td>\n",
       "      <td>1.0</td>\n",
       "      <td>0.0</td>\n",
       "      <td>1.0</td>\n",
       "      <td>1.0</td>\n",
       "      <td>3.0</td>\n",
       "      <td>1.0</td>\n",
       "      <td>28.50</td>\n",
       "      <td>...</td>\n",
       "      <td>Admin Offices</td>\n",
       "      <td>Brandon R. LeBlanc</td>\n",
       "      <td>1.0</td>\n",
       "      <td>Diversity Job Fair</td>\n",
       "      <td>Fully Meets</td>\n",
       "      <td>2.04</td>\n",
       "      <td>2.0</td>\n",
       "      <td>6.0</td>\n",
       "      <td>1/15/2019</td>\n",
       "      <td>0.0</td>\n",
       "    </tr>\n",
       "    <tr>\n",
       "      <th>1</th>\n",
       "      <td>LaRotonda, William</td>\n",
       "      <td>1.106027e+09</td>\n",
       "      <td>0.0</td>\n",
       "      <td>2.0</td>\n",
       "      <td>1.0</td>\n",
       "      <td>1.0</td>\n",
       "      <td>1.0</td>\n",
       "      <td>3.0</td>\n",
       "      <td>0.0</td>\n",
       "      <td>23.00</td>\n",
       "      <td>...</td>\n",
       "      <td>Admin Offices</td>\n",
       "      <td>Brandon R. LeBlanc</td>\n",
       "      <td>1.0</td>\n",
       "      <td>Website Banner Ads</td>\n",
       "      <td>Fully Meets</td>\n",
       "      <td>5.00</td>\n",
       "      <td>4.0</td>\n",
       "      <td>4.0</td>\n",
       "      <td>1/17/2019</td>\n",
       "      <td>0.0</td>\n",
       "    </tr>\n",
       "    <tr>\n",
       "      <th>2</th>\n",
       "      <td>Steans, Tyrone</td>\n",
       "      <td>1.302053e+09</td>\n",
       "      <td>0.0</td>\n",
       "      <td>0.0</td>\n",
       "      <td>1.0</td>\n",
       "      <td>1.0</td>\n",
       "      <td>1.0</td>\n",
       "      <td>3.0</td>\n",
       "      <td>0.0</td>\n",
       "      <td>29.00</td>\n",
       "      <td>...</td>\n",
       "      <td>Admin Offices</td>\n",
       "      <td>Brandon R. LeBlanc</td>\n",
       "      <td>1.0</td>\n",
       "      <td>Internet Search</td>\n",
       "      <td>Fully Meets</td>\n",
       "      <td>3.90</td>\n",
       "      <td>5.0</td>\n",
       "      <td>5.0</td>\n",
       "      <td>1/18/2019</td>\n",
       "      <td>0.0</td>\n",
       "    </tr>\n",
       "    <tr>\n",
       "      <th>3</th>\n",
       "      <td>Howard, Estelle</td>\n",
       "      <td>1.211051e+09</td>\n",
       "      <td>1.0</td>\n",
       "      <td>1.0</td>\n",
       "      <td>0.0</td>\n",
       "      <td>1.0</td>\n",
       "      <td>1.0</td>\n",
       "      <td>3.0</td>\n",
       "      <td>0.0</td>\n",
       "      <td>21.50</td>\n",
       "      <td>...</td>\n",
       "      <td>Admin Offices</td>\n",
       "      <td>Brandon R. LeBlanc</td>\n",
       "      <td>1.0</td>\n",
       "      <td>Pay Per Click - Google</td>\n",
       "      <td>Fully Meets</td>\n",
       "      <td>3.24</td>\n",
       "      <td>3.0</td>\n",
       "      <td>4.0</td>\n",
       "      <td>NaN</td>\n",
       "      <td>NaN</td>\n",
       "    </tr>\n",
       "    <tr>\n",
       "      <th>4</th>\n",
       "      <td>Singh, Nan</td>\n",
       "      <td>1.307060e+09</td>\n",
       "      <td>0.0</td>\n",
       "      <td>0.0</td>\n",
       "      <td>0.0</td>\n",
       "      <td>1.0</td>\n",
       "      <td>1.0</td>\n",
       "      <td>3.0</td>\n",
       "      <td>0.0</td>\n",
       "      <td>16.56</td>\n",
       "      <td>...</td>\n",
       "      <td>Admin Offices</td>\n",
       "      <td>Brandon R. LeBlanc</td>\n",
       "      <td>1.0</td>\n",
       "      <td>Website Banner Ads</td>\n",
       "      <td>Fully Meets</td>\n",
       "      <td>5.00</td>\n",
       "      <td>3.0</td>\n",
       "      <td>5.0</td>\n",
       "      <td>1/15/2019</td>\n",
       "      <td>0.0</td>\n",
       "    </tr>\n",
       "  </tbody>\n",
       "</table>\n",
       "<p>5 rows × 35 columns</p>\n",
       "</div>"
      ],
      "text/plain": [
       "          Employee_Name         EmpID  MarriedID  MaritalStatusID  GenderID  \\\n",
       "0            Brown, Mia  1.103024e+09        1.0              1.0       0.0   \n",
       "1  LaRotonda, William    1.106027e+09        0.0              2.0       1.0   \n",
       "2      Steans, Tyrone    1.302053e+09        0.0              0.0       1.0   \n",
       "3       Howard, Estelle  1.211051e+09        1.0              1.0       0.0   \n",
       "4           Singh, Nan   1.307060e+09        0.0              0.0       0.0   \n",
       "\n",
       "   EmpStatusID  DeptID  PerfScoreID  FromDiversityJobFairID  PayRate  ...  \\\n",
       "0          1.0     1.0          3.0                     1.0    28.50  ...   \n",
       "1          1.0     1.0          3.0                     0.0    23.00  ...   \n",
       "2          1.0     1.0          3.0                     0.0    29.00  ...   \n",
       "3          1.0     1.0          3.0                     0.0    21.50  ...   \n",
       "4          1.0     1.0          3.0                     0.0    16.56  ...   \n",
       "\n",
       "      Department         ManagerName ManagerID       RecruitmentSource  \\\n",
       "0  Admin Offices  Brandon R. LeBlanc       1.0      Diversity Job Fair   \n",
       "1  Admin Offices  Brandon R. LeBlanc       1.0      Website Banner Ads   \n",
       "2  Admin Offices  Brandon R. LeBlanc       1.0         Internet Search   \n",
       "3  Admin Offices  Brandon R. LeBlanc       1.0  Pay Per Click - Google   \n",
       "4  Admin Offices  Brandon R. LeBlanc       1.0      Website Banner Ads   \n",
       "\n",
       "   PerformanceScore EngagementSurvey EmpSatisfaction SpecialProjectsCount  \\\n",
       "0       Fully Meets             2.04             2.0                  6.0   \n",
       "1       Fully Meets             5.00             4.0                  4.0   \n",
       "2       Fully Meets             3.90             5.0                  5.0   \n",
       "3       Fully Meets             3.24             3.0                  4.0   \n",
       "4       Fully Meets             5.00             3.0                  5.0   \n",
       "\n",
       "  LastPerformanceReview_Date DaysLateLast30  \n",
       "0                  1/15/2019            0.0  \n",
       "1                  1/17/2019            0.0  \n",
       "2                  1/18/2019            0.0  \n",
       "3                        NaN            NaN  \n",
       "4                  1/15/2019            0.0  \n",
       "\n",
       "[5 rows x 35 columns]"
      ]
     },
     "execution_count": 44,
     "metadata": {},
     "output_type": "execute_result"
    }
   ],
   "source": [
    "df.head()"
   ]
  },
  {
   "cell_type": "code",
   "execution_count": 45,
   "id": "9df3b6a2-14a0-4335-b6cf-0eed8412d861",
   "metadata": {},
   "outputs": [],
   "source": [
    "df['DOB'] = pd.to_datetime(df['DOB'], format='%m/%d/%y')\n",
    "df['DateofTermination'] = pd.to_datetime(df['DateofTermination'], format='%m/%d/%y')\n",
    "df['DateofHire'] = pd.to_datetime(df['DateofHire'], format='%m/%d/%Y')"
   ]
  },
  {
   "cell_type": "code",
   "execution_count": 46,
   "id": "fab15d32-7757-46e5-ac09-9371fc123e01",
   "metadata": {},
   "outputs": [],
   "source": [
    "def count_seniority(row):\n",
    "    if pd.isnull(row['DateofTermination']):\n",
    "        end_date = dt.datetime(2019,9,27)\n",
    "    else:\n",
    "        end_date = row['DateofTermination']\n",
    "    return (end_date - row['DateofHire'])/np.timedelta64(1, 'Y')"
   ]
  },
  {
   "cell_type": "code",
   "execution_count": 47,
   "id": "408bb2ea-c871-43a3-9f05-f54af287c536",
   "metadata": {},
   "outputs": [],
   "source": [
    "df['Seniority'] = df.apply(lambda row: count_seniority(row), axis=1)"
   ]
  },
  {
   "cell_type": "markdown",
   "id": "a7d03560-f5f0-4f7e-900a-1a4bbb51951d",
   "metadata": {},
   "source": [
    "### Sprawdzenie zależności pomiędzy przełożonym a wynikami osiąganymi przez pracowników"
   ]
  },
  {
   "cell_type": "code",
   "execution_count": 48,
   "id": "1c92e8e1-6395-48cb-a574-392352862b66",
   "metadata": {},
   "outputs": [
    {
     "data": {
      "image/png": "[encoded data removed]",
      "text/plain": [
       "<Figure size 432x432 with 3 Axes>"
      ]
     },
     "metadata": {
      "needs_background": "light"
     },
     "output_type": "display_data"
    }
   ],
   "source": [
    "sns.jointplot(x='PerformanceScore', y='ManagerName', data=df)\n",
    "plt.show()"
   ]
  },
  {
   "cell_type": "code",
   "execution_count": 49,
   "id": "004e96af-5f1f-4569-b8a1-8f16d438690a",
   "metadata": {},
   "outputs": [
    {
     "data": {
      "text/plain": [
       "Kelley Spirea         22\n",
       "Michael Albert        22\n",
       "Kissy Sullivan        22\n",
       "Elijiah Gray          22\n",
       "Amy Dunn              21\n",
       "Webster Butler        21\n",
       "Ketsia Liebig         21\n",
       "Brannon Miller        21\n",
       "David Stanley         21\n",
       "Janet King            19\n",
       "Simon Roup            17\n",
       "Peter Monroe          14\n",
       "John Smith            14\n",
       "Lynn Daneault         13\n",
       "Alex Sweetwater        9\n",
       "Brian Champaigne       8\n",
       "Jennifer Zamora        7\n",
       "Brandon R. LeBlanc     7\n",
       "Eric Dougall           4\n",
       "Debra Houlihan         3\n",
       "Board of Directors     2\n",
       "Name: ManagerName, dtype: int64"
      ]
     },
     "execution_count": 49,
     "metadata": {},
     "output_type": "execute_result"
    }
   ],
   "source": [
    "df['ManagerName'].value_counts()"
   ]
  },
  {
   "cell_type": "markdown",
   "id": "89266333-bcf8-4e54-ae92-c5a230a984ba",
   "metadata": {},
   "source": [
    "##### Nie zaobserwowano związku pomiędzy menedżerem, a wynikami osiąganymi przez pracowników"
   ]
  },
  {
   "cell_type": "code",
   "execution_count": 65,
   "id": "59f04ab2-b0d0-45a9-9ed3-c4c88641be6c",
   "metadata": {},
   "outputs": [],
   "source": [
    "recruitment = df[['RecruitmentSource', 'Seniority']]\n",
    "filtered_data = recruitment.dropna(thresh=2)"
   ]
  },
  {
   "cell_type": "code",
   "execution_count": 67,
   "id": "fbaa6a86-e3a0-4edf-967e-00b462e63609",
   "metadata": {},
   "outputs": [
    {
     "data": {
      "text/html": [
       "<div>\n",
       "<style scoped>\n",
       "    .dataframe tbody tr th:only-of-type {\n",
       "        vertical-align: middle;\n",
       "    }\n",
       "\n",
       "    .dataframe tbody tr th {\n",
       "        vertical-align: top;\n",
       "    }\n",
       "\n",
       "    .dataframe thead th {\n",
       "        text-align: right;\n",
       "    }\n",
       "</style>\n",
       "<table border=\"1\" class=\"dataframe\">\n",
       "  <thead>\n",
       "    <tr style=\"text-align: right;\">\n",
       "      <th></th>\n",
       "      <th>RecruitmentSource</th>\n",
       "      <th>Seniority</th>\n",
       "    </tr>\n",
       "  </thead>\n",
       "  <tbody>\n",
       "    <tr>\n",
       "      <th>0</th>\n",
       "      <td>Diversity Job Fair</td>\n",
       "      <td>10.916035</td>\n",
       "    </tr>\n",
       "    <tr>\n",
       "      <th>1</th>\n",
       "      <td>Website Banner Ads</td>\n",
       "      <td>5.722226</td>\n",
       "    </tr>\n",
       "    <tr>\n",
       "      <th>2</th>\n",
       "      <td>Internet Search</td>\n",
       "      <td>4.993942</td>\n",
       "    </tr>\n",
       "    <tr>\n",
       "      <th>3</th>\n",
       "      <td>Pay Per Click - Google</td>\n",
       "      <td>0.158799</td>\n",
       "    </tr>\n",
       "    <tr>\n",
       "      <th>4</th>\n",
       "      <td>Website Banner Ads</td>\n",
       "      <td>4.408030</td>\n",
       "    </tr>\n",
       "  </tbody>\n",
       "</table>\n",
       "</div>"
      ],
      "text/plain": [
       "        RecruitmentSource  Seniority\n",
       "0      Diversity Job Fair  10.916035\n",
       "1      Website Banner Ads   5.722226\n",
       "2         Internet Search   4.993942\n",
       "3  Pay Per Click - Google   0.158799\n",
       "4      Website Banner Ads   4.408030"
      ]
     },
     "execution_count": 67,
     "metadata": {},
     "output_type": "execute_result"
    }
   ],
   "source": [
    "filtered_data.head()"
   ]
  },
  {
   "cell_type": "markdown",
   "id": "d415c694-d591-4937-be6d-844849166b8d",
   "metadata": {},
   "source": [
    "### Analiza powiązania pomiędzy firmą rekrutacyjną a stażem pracowników"
   ]
  },
  {
   "cell_type": "code",
   "execution_count": 69,
   "id": "b60c11c4-e9bc-431b-8737-a8cf7f08f076",
   "metadata": {},
   "outputs": [
    {
     "data": {
      "text/plain": [
       "<seaborn.axisgrid.JointGrid at 0x23cc23cfbb0>"
      ]
     },
     "execution_count": 69,
     "metadata": {},
     "output_type": "execute_result"
    },
    {
     "data": {
      "image/png": "[encoded data removed]",
      "text/plain": [
       "<Figure size 432x432 with 3 Axes>"
      ]
     },
     "metadata": {
      "needs_background": "light"
     },
     "output_type": "display_data"
    }
   ],
   "source": [
    "sns.jointplot(x='Seniority', y='RecruitmentSource', data=filtered_data)"
   ]
  },
  {
   "cell_type": "code",
   "execution_count": 72,
   "id": "c77a2892-5795-4473-b28c-fa6950f0737d",
   "metadata": {},
   "outputs": [
    {
     "data": {
      "text/html": [
       "<div>\n",
       "<style scoped>\n",
       "    .dataframe tbody tr th:only-of-type {\n",
       "        vertical-align: middle;\n",
       "    }\n",
       "\n",
       "    .dataframe tbody tr th {\n",
       "        vertical-align: top;\n",
       "    }\n",
       "\n",
       "    .dataframe thead th {\n",
       "        text-align: right;\n",
       "    }\n",
       "</style>\n",
       "<table border=\"1\" class=\"dataframe\">\n",
       "  <thead>\n",
       "    <tr style=\"text-align: right;\">\n",
       "      <th></th>\n",
       "      <th>Seniority</th>\n",
       "    </tr>\n",
       "    <tr>\n",
       "      <th>RecruitmentSource</th>\n",
       "      <th></th>\n",
       "    </tr>\n",
       "  </thead>\n",
       "  <tbody>\n",
       "    <tr>\n",
       "      <th>Careerbuilder</th>\n",
       "      <td>8.482036</td>\n",
       "    </tr>\n",
       "    <tr>\n",
       "      <th>Other</th>\n",
       "      <td>6.453247</td>\n",
       "    </tr>\n",
       "    <tr>\n",
       "      <th>Billboard</th>\n",
       "      <td>5.862886</td>\n",
       "    </tr>\n",
       "    <tr>\n",
       "      <th>MBTA ads</th>\n",
       "      <td>5.729634</td>\n",
       "    </tr>\n",
       "    <tr>\n",
       "      <th>Website Banner Ads</th>\n",
       "      <td>5.721594</td>\n",
       "    </tr>\n",
       "    <tr>\n",
       "      <th>Information Session</th>\n",
       "      <td>5.623661</td>\n",
       "    </tr>\n",
       "    <tr>\n",
       "      <th>Professional Society</th>\n",
       "      <td>5.437757</td>\n",
       "    </tr>\n",
       "    <tr>\n",
       "      <th>Employee Referral</th>\n",
       "      <td>5.026002</td>\n",
       "    </tr>\n",
       "    <tr>\n",
       "      <th>Pay Per Click - Google</th>\n",
       "      <td>5.009457</td>\n",
       "    </tr>\n",
       "    <tr>\n",
       "      <th>On-campus Recruiting</th>\n",
       "      <td>5.006491</td>\n",
       "    </tr>\n",
       "    <tr>\n",
       "      <th>Monster.com</th>\n",
       "      <td>4.834916</td>\n",
       "    </tr>\n",
       "    <tr>\n",
       "      <th>Internet Search</th>\n",
       "      <td>4.711482</td>\n",
       "    </tr>\n",
       "    <tr>\n",
       "      <th>Newspager/Magazine</th>\n",
       "      <td>4.593295</td>\n",
       "    </tr>\n",
       "    <tr>\n",
       "      <th>Diversity Job Fair</th>\n",
       "      <td>4.492339</td>\n",
       "    </tr>\n",
       "    <tr>\n",
       "      <th>Search Engine - Google Bing Yahoo</th>\n",
       "      <td>4.360281</td>\n",
       "    </tr>\n",
       "    <tr>\n",
       "      <th>Glassdoor</th>\n",
       "      <td>4.155165</td>\n",
       "    </tr>\n",
       "    <tr>\n",
       "      <th>Vendor Referral</th>\n",
       "      <td>4.143548</td>\n",
       "    </tr>\n",
       "    <tr>\n",
       "      <th>Word of Mouth</th>\n",
       "      <td>3.647313</td>\n",
       "    </tr>\n",
       "    <tr>\n",
       "      <th>Social Networks - Facebook Twitter etc</th>\n",
       "      <td>3.464697</td>\n",
       "    </tr>\n",
       "    <tr>\n",
       "      <th>Indeed</th>\n",
       "      <td>2.676304</td>\n",
       "    </tr>\n",
       "    <tr>\n",
       "      <th>Company Intranet - Partner</th>\n",
       "      <td>1.215631</td>\n",
       "    </tr>\n",
       "    <tr>\n",
       "      <th>On-line Web application</th>\n",
       "      <td>0.531154</td>\n",
       "    </tr>\n",
       "    <tr>\n",
       "      <th>Pay Per Click</th>\n",
       "      <td>0.005476</td>\n",
       "    </tr>\n",
       "  </tbody>\n",
       "</table>\n",
       "</div>"
      ],
      "text/plain": [
       "                                        Seniority\n",
       "RecruitmentSource                                \n",
       "Careerbuilder                            8.482036\n",
       "Other                                    6.453247\n",
       "Billboard                                5.862886\n",
       "MBTA ads                                 5.729634\n",
       "Website Banner Ads                       5.721594\n",
       "Information Session                      5.623661\n",
       "Professional Society                     5.437757\n",
       "Employee Referral                        5.026002\n",
       "Pay Per Click - Google                   5.009457\n",
       "On-campus Recruiting                     5.006491\n",
       "Monster.com                              4.834916\n",
       "Internet Search                          4.711482\n",
       "Newspager/Magazine                       4.593295\n",
       "Diversity Job Fair                       4.492339\n",
       "Search Engine - Google Bing Yahoo        4.360281\n",
       "Glassdoor                                4.155165\n",
       "Vendor Referral                          4.143548\n",
       "Word of Mouth                            3.647313\n",
       "Social Networks - Facebook Twitter etc   3.464697\n",
       "Indeed                                   2.676304\n",
       "Company Intranet - Partner               1.215631\n",
       "On-line Web application                  0.531154\n",
       "Pay Per Click                            0.005476"
      ]
     },
     "execution_count": 72,
     "metadata": {},
     "output_type": "execute_result"
    }
   ],
   "source": [
    "filtered_data.groupby(by='RecruitmentSource').mean().sort_values(by='Seniority', ascending=False)"
   ]
  },
  {
   "cell_type": "markdown",
   "id": "50886e76-95ba-4946-974d-6e1b7fb78553",
   "metadata": {},
   "source": [
    "##### Z powyższej analizy wynika, że jeśli zależy nam na jak najdłuższym stażu pracownika, powinniśmy się skupić na firmach z górnej części listy. Przy czym należy pominąć firmę Careerbuilder z racji zbyt małej ilości przeprowadzonych rekrutacji."
   ]
  },
  {
   "cell_type": "code",
   "execution_count": null,
   "id": "3a0674e5-1438-4db7-ba82-e724216f66ae",
   "metadata": {},
   "outputs": [],
   "source": []
  }
 ],
 "metadata": {
  "kernelspec": {
   "display_name": "Python 3 (ipykernel)",
   "language": "python",
   "name": "python3"
  },
  "language_info": {
   "codemirror_mode": {
    "name": "ipython",
    "version": 3
   },
   "file_extension": ".py",
   "mimetype": "text/x-python",
   "name": "python",
   "nbconvert_exporter": "python",
   "pygments_lexer": "ipython3",
   "version": "3.9.7"
  }
 },
 "nbformat": 4,
 "nbformat_minor": 5
}
